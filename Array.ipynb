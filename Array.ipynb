{
 "cells": [
  {
   "cell_type": "code",
   "execution_count": 1,
   "id": "ed09886b",
   "metadata": {},
   "outputs": [],
   "source": [
    "from array import *"
   ]
  },
  {
   "cell_type": "code",
   "execution_count": 2,
   "id": "991cd82b",
   "metadata": {},
   "outputs": [],
   "source": [
    "arr1 = array('i', [1,2,3,4,5,6])"
   ]
  },
  {
   "cell_type": "code",
   "execution_count": 3,
   "id": "a803812e",
   "metadata": {},
   "outputs": [
    {
     "name": "stdout",
     "output_type": "stream",
     "text": [
      "array('i', [1, 2, 3, 4, 5, 6])\n"
     ]
    }
   ],
   "source": [
    "print(arr1)"
   ]
  },
  {
   "cell_type": "markdown",
   "id": "760b8715",
   "metadata": {},
   "source": [
    "### Insert into an array"
   ]
  },
  {
   "cell_type": "code",
   "execution_count": 4,
   "id": "1d12a9d3",
   "metadata": {},
   "outputs": [],
   "source": [
    "arr1.insert(6,7)"
   ]
  },
  {
   "cell_type": "code",
   "execution_count": 5,
   "id": "c526806b",
   "metadata": {},
   "outputs": [
    {
     "name": "stdout",
     "output_type": "stream",
     "text": [
      "array('i', [1, 2, 3, 4, 5, 6, 7])\n"
     ]
    }
   ],
   "source": [
    "print(arr1)"
   ]
  },
  {
   "cell_type": "markdown",
   "id": "37aa733d",
   "metadata": {},
   "source": [
    "### Traversing an Array"
   ]
  },
  {
   "cell_type": "code",
   "execution_count": 6,
   "id": "7b2f07a2",
   "metadata": {},
   "outputs": [],
   "source": [
    "def traverseArray(array):\n",
    "    for i in array:\n",
    "        print(i)"
   ]
  },
  {
   "cell_type": "code",
   "execution_count": 7,
   "id": "60a2298c",
   "metadata": {},
   "outputs": [
    {
     "name": "stdout",
     "output_type": "stream",
     "text": [
      "1\n",
      "2\n",
      "3\n",
      "4\n",
      "5\n",
      "6\n",
      "7\n"
     ]
    }
   ],
   "source": [
    "traverseArray(arr1)"
   ]
  },
  {
   "cell_type": "markdown",
   "id": "16b532dc",
   "metadata": {},
   "source": [
    "### Accessing an Array"
   ]
  },
  {
   "cell_type": "code",
   "execution_count": 8,
   "id": "e354bb94",
   "metadata": {},
   "outputs": [],
   "source": [
    "def accessArray(array, index):\n",
    "    if index >= len(array):\n",
    "        print('Error')\n",
    "    else:\n",
    "        print(array[index])\n",
    "        "
   ]
  },
  {
   "cell_type": "code",
   "execution_count": 9,
   "id": "7187810b",
   "metadata": {},
   "outputs": [
    {
     "name": "stdout",
     "output_type": "stream",
     "text": [
      "6\n"
     ]
    }
   ],
   "source": [
    "accessArray(arr1, 5)"
   ]
  },
  {
   "cell_type": "code",
   "execution_count": 10,
   "id": "5c7e744e",
   "metadata": {},
   "outputs": [
    {
     "data": {
      "text/plain": [
       "6"
      ]
     },
     "execution_count": 10,
     "metadata": {},
     "output_type": "execute_result"
    }
   ],
   "source": [
    "arr1[5]"
   ]
  },
  {
   "cell_type": "markdown",
   "id": "82a18fd9",
   "metadata": {},
   "source": [
    "### Linear Search Algorithm to Find an Array"
   ]
  },
  {
   "cell_type": "code",
   "execution_count": 11,
   "id": "d7ec8800",
   "metadata": {},
   "outputs": [],
   "source": [
    "def linearsearch(array, target):\n",
    "    for i in range(len(array)):\n",
    "        if array[i] == target:\n",
    "            return i\n",
    "    return -1"
   ]
  },
  {
   "cell_type": "code",
   "execution_count": 27,
   "id": "3699cb25",
   "metadata": {},
   "outputs": [
    {
     "name": "stdout",
     "output_type": "stream",
     "text": [
      "2\n"
     ]
    }
   ],
   "source": [
    "print(linearsearch(arr1, 3))"
   ]
  },
  {
   "cell_type": "code",
   "execution_count": null,
   "id": "1bc96750",
   "metadata": {},
   "outputs": [],
   "source": []
  },
  {
   "cell_type": "markdown",
   "id": "0ee8ba87",
   "metadata": {},
   "source": [
    "### Removing an elemnt formt he array"
   ]
  },
  {
   "cell_type": "code",
   "execution_count": 13,
   "id": "9107f92b",
   "metadata": {},
   "outputs": [
    {
     "name": "stdout",
     "output_type": "stream",
     "text": [
      "array('i', [1, 2, 3, 4, 6, 7])\n"
     ]
    }
   ],
   "source": [
    "arr1.remove(5)\n",
    "\n",
    "print(arr1)"
   ]
  },
  {
   "cell_type": "code",
   "execution_count": null,
   "id": "677f64b8",
   "metadata": {},
   "outputs": [],
   "source": []
  },
  {
   "cell_type": "markdown",
   "id": "6f111a74",
   "metadata": {},
   "source": [
    "### 2D Array"
   ]
  },
  {
   "cell_type": "code",
   "execution_count": 14,
   "id": "7ceaaae3",
   "metadata": {},
   "outputs": [],
   "source": [
    "import numpy as np"
   ]
  },
  {
   "cell_type": "code",
   "execution_count": 15,
   "id": "bec75b13",
   "metadata": {},
   "outputs": [
    {
     "name": "stdout",
     "output_type": "stream",
     "text": [
      "[[11 15 10  6]\n",
      " [10 14 11  5]\n",
      " [12 17 12  8]\n",
      " [15 18 14  9]]\n"
     ]
    }
   ],
   "source": [
    "twoDArray = np.array([[11,15,10,6], [10,14,11,5], [12,17,12,8], [15,18,14,9]])\n",
    "\n",
    "print(twoDArray)"
   ]
  },
  {
   "cell_type": "markdown",
   "id": "87a0b8a3",
   "metadata": {},
   "source": [
    "### Inserting a value in 2D Array"
   ]
  },
  {
   "cell_type": "code",
   "execution_count": 16,
   "id": "fe313e95",
   "metadata": {},
   "outputs": [
    {
     "name": "stdout",
     "output_type": "stream",
     "text": [
      "[[ 1  2  3  4]\n",
      " [11 15 10  6]\n",
      " [10 14 11  5]\n",
      " [12 17 12  8]\n",
      " [15 18 14  9]]\n"
     ]
    }
   ],
   "source": [
    "newtwoDArray = np.insert(twoDArray, 0, [[1,2,3,4]], axis=0) # Axis=1 will add to the column\n",
    "# np.append(twoDArray, [[1,2,3,4], axis=0]) this can be done if array row or column needs to\n",
    "# be added at the end of the matrix 2D Array.\n",
    "\n",
    "print(newtwoDArray)"
   ]
  },
  {
   "cell_type": "markdown",
   "id": "72668ea2",
   "metadata": {},
   "source": [
    "### Accessing an element in 2D Array"
   ]
  },
  {
   "cell_type": "code",
   "execution_count": 17,
   "id": "b0798460",
   "metadata": {},
   "outputs": [],
   "source": [
    "def accessElements(array, rowIndex, columnIndex):\n",
    "    if rowIndex >= len(array) or columnIndex >= len(array[0]):\n",
    "        print('Incorrect Index')\n",
    "    else:\n",
    "        print(array[rowIndex][columnIndex])"
   ]
  },
  {
   "cell_type": "code",
   "execution_count": 18,
   "id": "ba45ec58",
   "metadata": {},
   "outputs": [
    {
     "name": "stdout",
     "output_type": "stream",
     "text": [
      "11\n"
     ]
    }
   ],
   "source": [
    "accessElements(newtwoDArray, 2,2)"
   ]
  },
  {
   "cell_type": "markdown",
   "id": "df8d88e2",
   "metadata": {},
   "source": [
    "### Traversing through a 2D Array"
   ]
  },
  {
   "cell_type": "code",
   "execution_count": 19,
   "id": "861c8e22",
   "metadata": {},
   "outputs": [],
   "source": [
    "def traversetwoDArray(array):\n",
    "    for i in range(len(array)):\n",
    "        for j in range(len(array[0])):\n",
    "            print(array[i][j])\n",
    "            "
   ]
  },
  {
   "cell_type": "code",
   "execution_count": 20,
   "id": "f05b9e34",
   "metadata": {},
   "outputs": [
    {
     "name": "stdout",
     "output_type": "stream",
     "text": [
      "1\n",
      "2\n",
      "3\n",
      "4\n",
      "11\n",
      "15\n",
      "10\n",
      "6\n",
      "10\n",
      "14\n",
      "11\n",
      "5\n",
      "12\n",
      "17\n",
      "12\n",
      "8\n",
      "15\n",
      "18\n",
      "14\n",
      "9\n"
     ]
    }
   ],
   "source": [
    "traversetwoDArray(newtwoDArray)"
   ]
  },
  {
   "cell_type": "markdown",
   "id": "3d7e6c5a",
   "metadata": {},
   "source": [
    "### Searching through a 2D Array Linear Search Algo"
   ]
  },
  {
   "cell_type": "code",
   "execution_count": 21,
   "id": "d7577cec",
   "metadata": {},
   "outputs": [],
   "source": [
    "def linearsearchTD(array, target):\n",
    "    for i in range(len(array)):\n",
    "        for j in range(len(array[0])):\n",
    "            if array[i][j] == target:\n",
    "                return 'The value is located at index ' +str(i)+\" \"+str(j)\n",
    "    return -1"
   ]
  },
  {
   "cell_type": "code",
   "execution_count": 22,
   "id": "7c6b9dad",
   "metadata": {},
   "outputs": [
    {
     "name": "stdout",
     "output_type": "stream",
     "text": [
      "The value is located at index 3 0\n"
     ]
    }
   ],
   "source": [
    "print(linearsearchTD(newtwoDArray, 12))"
   ]
  },
  {
   "cell_type": "code",
   "execution_count": 23,
   "id": "58e5aa37",
   "metadata": {},
   "outputs": [],
   "source": [
    "def linearsearchTDD(array, target):\n",
    "    result = []  # List to store all the indices where the target is found\n",
    "    for i in range(len(array)):           # Loop through the rows\n",
    "        for j in range(len(array[0])):    # Loop through the columns\n",
    "            if array[i][j] == target:     # Check if the current element matches the target\n",
    "                result.append((i, j))     # Add the index (i, j) to the result list\n",
    "    if result:                            # If the result list is not empty (i.e., target was found)\n",
    "        return f'The value is located at indices: {result}'\n",
    "    else:\n",
    "        return -1  # If the target was not found in the array\n"
   ]
  },
  {
   "cell_type": "code",
   "execution_count": 24,
   "id": "c04c2718",
   "metadata": {},
   "outputs": [
    {
     "data": {
      "text/plain": [
       "'The value is located at indices: [(3, 0), (3, 2)]'"
      ]
     },
     "execution_count": 24,
     "metadata": {},
     "output_type": "execute_result"
    }
   ],
   "source": [
    "linearsearchTDD(newtwoDArray, 12)"
   ]
  },
  {
   "cell_type": "markdown",
   "id": "88a8a4f3",
   "metadata": {},
   "source": [
    "### Deleting in 2D Array"
   ]
  },
  {
   "cell_type": "code",
   "execution_count": 25,
   "id": "a8ff1dbe",
   "metadata": {},
   "outputs": [],
   "source": [
    "deleteArray = np.delete(newtwoDArray, 0, axis = 0)"
   ]
  },
  {
   "cell_type": "code",
   "execution_count": 26,
   "id": "8be7317c",
   "metadata": {},
   "outputs": [
    {
     "name": "stdout",
     "output_type": "stream",
     "text": [
      "[[11 15 10  6]\n",
      " [10 14 11  5]\n",
      " [12 17 12  8]\n",
      " [15 18 14  9]]\n"
     ]
    }
   ],
   "source": [
    "print(deleteArray)"
   ]
  },
  {
   "cell_type": "code",
   "execution_count": null,
   "id": "75eea706",
   "metadata": {},
   "outputs": [],
   "source": []
  },
  {
   "cell_type": "code",
   "execution_count": null,
   "id": "c9edd600",
   "metadata": {},
   "outputs": [],
   "source": []
  },
  {
   "cell_type": "code",
   "execution_count": null,
   "id": "940f3415",
   "metadata": {},
   "outputs": [],
   "source": []
  }
 ],
 "metadata": {
  "kernelspec": {
   "display_name": "Python 3 (ipykernel)",
   "language": "python",
   "name": "python3"
  },
  "language_info": {
   "codemirror_mode": {
    "name": "ipython",
    "version": 3
   },
   "file_extension": ".py",
   "mimetype": "text/x-python",
   "name": "python",
   "nbconvert_exporter": "python",
   "pygments_lexer": "ipython3",
   "version": "3.10.9"
  }
 },
 "nbformat": 4,
 "nbformat_minor": 5
}
