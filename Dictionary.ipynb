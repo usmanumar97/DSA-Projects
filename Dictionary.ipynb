{
 "cells": [
  {
   "cell_type": "markdown",
   "id": "c1d3e53a",
   "metadata": {},
   "source": [
    "### Creating a Dictionary"
   ]
  },
  {
   "cell_type": "code",
   "execution_count": 2,
   "id": "c1994afe",
   "metadata": {},
   "outputs": [
    {
     "name": "stdout",
     "output_type": "stream",
     "text": [
      "{}\n",
      "{}\n"
     ]
    }
   ],
   "source": [
    "my_dict = dict()\n",
    "print(my_dict)\n",
    "\n",
    "my_dict2 = {}\n",
    "print(my_dict2)"
   ]
  },
  {
   "cell_type": "code",
   "execution_count": 9,
   "id": "ade4d0a2",
   "metadata": {},
   "outputs": [
    {
     "name": "stdout",
     "output_type": "stream",
     "text": [
      "{'one': 'uno', 'two': 'dos', 'three': 'tres'}\n",
      "{'one': 'uno', 'two': 'dos', 'three': 'tres'}\n",
      "{'one': 'uno', 'two': 'dos', 'three': 'tres'}\n"
     ]
    }
   ],
   "source": [
    "eng_sp = dict(one='uno', two='dos', three='tres')\n",
    "print(eng_sp)\n",
    "\n",
    "eng_sp2 = {'one':'uno', 'two':'dos', 'three':'tres'}\n",
    "print(eng_sp2)\n",
    "\n",
    "# Tuples\n",
    "eng_sp_list = [('one','uno'), ('two','dos'), ('three','tres')]\n",
    "eng_sp3 = dict(eng_sp_list)\n",
    "print(eng_sp3)"
   ]
  },
  {
   "cell_type": "markdown",
   "id": "7008122a",
   "metadata": {},
   "source": [
    "### Add an element to the dicitonary"
   ]
  },
  {
   "cell_type": "code",
   "execution_count": 13,
   "id": "2c58d9a7",
   "metadata": {},
   "outputs": [
    {
     "name": "stdout",
     "output_type": "stream",
     "text": [
      "{'Name': 'Osman', 'Age': 27}\n",
      "{'Name': 'Osman', 'Age': 27, 'Address': 'London'}\n"
     ]
    }
   ],
   "source": [
    "myDict = {'Name': 'Osman', 'Age': '26'}\n",
    "myDict['Age'] = 27\n",
    "print(myDict)\n",
    "\n",
    "myDict['Address'] = 'London'\n",
    "print(myDict)"
   ]
  },
  {
   "cell_type": "markdown",
   "id": "fc671ed1",
   "metadata": {},
   "source": [
    "### Traversing through a Dictionary"
   ]
  },
  {
   "cell_type": "code",
   "execution_count": 44,
   "id": "4d2fe3f3",
   "metadata": {},
   "outputs": [],
   "source": [
    "myDict1 = {'Name': 'Osman', 'Age': '27', 'Address': 'London'}"
   ]
  },
  {
   "cell_type": "code",
   "execution_count": 33,
   "id": "d57a35d3",
   "metadata": {},
   "outputs": [],
   "source": [
    "def traverseDict(dict):\n",
    "    for key in dict:\n",
    "        print(key, dict[key])"
   ]
  },
  {
   "cell_type": "code",
   "execution_count": 34,
   "id": "7dc2e5d8",
   "metadata": {},
   "outputs": [
    {
     "name": "stdout",
     "output_type": "stream",
     "text": [
      "Name Osman\n",
      "Age 27\n",
      "Address London\n"
     ]
    }
   ],
   "source": [
    "traverseDict(myDict1)"
   ]
  },
  {
   "cell_type": "markdown",
   "id": "d7ae97a8",
   "metadata": {},
   "source": [
    "### Searching through a Dictionary"
   ]
  },
  {
   "cell_type": "code",
   "execution_count": 40,
   "id": "dc8319e1",
   "metadata": {},
   "outputs": [],
   "source": [
    "def searchDict(dict, value):\n",
    "    for key in dict:\n",
    "        if value == dict[key]:\n",
    "            return key, value\n",
    "    return 'The value does not exist'"
   ]
  },
  {
   "cell_type": "code",
   "execution_count": 41,
   "id": "3b7eb782",
   "metadata": {},
   "outputs": [
    {
     "data": {
      "text/plain": [
       "('Age', '27')"
      ]
     },
     "execution_count": 41,
     "metadata": {},
     "output_type": "execute_result"
    }
   ],
   "source": [
    "searchDict(myDict1, '27')"
   ]
  },
  {
   "cell_type": "markdown",
   "id": "da3515d6",
   "metadata": {},
   "source": [
    "### Deleting an element from Dictionary"
   ]
  },
  {
   "cell_type": "code",
   "execution_count": 43,
   "id": "0c7e62a1",
   "metadata": {},
   "outputs": [
    {
     "name": "stdout",
     "output_type": "stream",
     "text": [
      "{'Name': 'Osman', 'Age': '27'}\n"
     ]
    }
   ],
   "source": [
    "del myDict1['Address']\n",
    "print(myDict1)"
   ]
  },
  {
   "cell_type": "code",
   "execution_count": 46,
   "id": "02f2d43a",
   "metadata": {},
   "outputs": [
    {
     "name": "stdout",
     "output_type": "stream",
     "text": [
      "None\n",
      "{'Name': 'Osman', 'Address': 'London'}\n"
     ]
    }
   ],
   "source": [
    "# .pop() method to delete from a dictionary\n",
    "# removedElement = myDict1.popitem() method would remove the last key, value pair from the dictionary\n",
    "# removedElement = myDict1.clear() would remove everything from dictionary\n",
    "\n",
    "removedElement = myDict1.pop('Age', None)\n",
    "print(removedElement)\n",
    "print(myDict1)"
   ]
  },
  {
   "cell_type": "markdown",
   "id": "fbf15eb5",
   "metadata": {},
   "source": [
    "### Dictionary Methods"
   ]
  },
  {
   "cell_type": "code",
   "execution_count": null,
   "id": "69566636",
   "metadata": {},
   "outputs": [],
   "source": [
    "# Methods\n",
    "# dictionary.clear()\n",
    "# dictionary.copy()\n",
    "# dictionary.fromkeys(sequence[],value) // newDict = {}.fromkeys([1,2,3],0)\n",
    "# dictionary.get(key,value) \n",
    "# dictionary.item(), returns a key-value pair of tuple\n",
    "# dictionary.keys(), returns only keys\n",
    "# dictionary.popitem(), removes last key-value from dictionary and returns it\n",
    "# dictionary.setdefault(key,default_value), returns the key-value, if key-value doesnt exist then adds it to dicitonary\n",
    "# dicitonary.pop(key,defaul_value)\n",
    "# dictionary.values(), returns the values in the dictionary\n",
    "# dictionary.update(other_dictionary), take one dictionary and update it with another dictionary\n"
   ]
  },
  {
   "cell_type": "code",
   "execution_count": 50,
   "id": "c8815191",
   "metadata": {},
   "outputs": [
    {
     "name": "stdout",
     "output_type": "stream",
     "text": [
      "([1, 2, 3, 4], [5, 6, 7, 8])\n"
     ]
    }
   ],
   "source": [
    "import numpy as np\n",
    "\n",
    "twoDArray = ([1,2,3,4], [5,6,7,8])\n",
    "print(twoDArray)"
   ]
  },
  {
   "cell_type": "code",
   "execution_count": null,
   "id": "42f29744",
   "metadata": {},
   "outputs": [],
   "source": []
  },
  {
   "cell_type": "code",
   "execution_count": 55,
   "id": "b1ebf2db",
   "metadata": {},
   "outputs": [
    {
     "name": "stdout",
     "output_type": "stream",
     "text": [
      "6\n"
     ]
    }
   ],
   "source": [
    "mylist = [1,2,3,4,5,6]\n",
    "\n",
    "print(len(mylist))"
   ]
  },
  {
   "cell_type": "markdown",
   "id": "763aa042",
   "metadata": {},
   "source": [
    "### Dictionary Comprehension"
   ]
  },
  {
   "cell_type": "code",
   "execution_count": 57,
   "id": "0b68bbe8",
   "metadata": {},
   "outputs": [
    {
     "name": "stdout",
     "output_type": "stream",
     "text": [
      "{'Rome': 25, 'Berlin': 29, 'London': 24, 'Paris': 30, 'Madrid': 21}\n"
     ]
    }
   ],
   "source": [
    "# new_dict = {new_key:new_value for (key,value) in dict.items() if condition}\n",
    "\n",
    "import random\n",
    "\n",
    "city_name = {'Paris', 'London', 'Rome', 'Berlin', 'Madrid'}\n",
    "\n",
    "city_temps = {city:random.randint(20,30) for city in city_name}\n",
    "\n",
    "print(city_temps)"
   ]
  },
  {
   "cell_type": "code",
   "execution_count": 58,
   "id": "fbff23f6",
   "metadata": {},
   "outputs": [
    {
     "name": "stdout",
     "output_type": "stream",
     "text": [
      "{'Berlin': 29, 'Paris': 30}\n"
     ]
    }
   ],
   "source": [
    "above_25 = {city: temp for (city, temp) in city_temps.items() if temp > 25}\n",
    "print(above_25)"
   ]
  },
  {
   "cell_type": "code",
   "execution_count": null,
   "id": "beb259c5",
   "metadata": {},
   "outputs": [],
   "source": []
  },
  {
   "cell_type": "code",
   "execution_count": null,
   "id": "e1ca122d",
   "metadata": {},
   "outputs": [],
   "source": []
  },
  {
   "cell_type": "code",
   "execution_count": null,
   "id": "6877a5fd",
   "metadata": {},
   "outputs": [],
   "source": []
  }
 ],
 "metadata": {
  "kernelspec": {
   "display_name": "Python 3 (ipykernel)",
   "language": "python",
   "name": "python3"
  },
  "language_info": {
   "codemirror_mode": {
    "name": "ipython",
    "version": 3
   },
   "file_extension": ".py",
   "mimetype": "text/x-python",
   "name": "python",
   "nbconvert_exporter": "python",
   "pygments_lexer": "ipython3",
   "version": "3.10.9"
  }
 },
 "nbformat": 4,
 "nbformat_minor": 5
}
