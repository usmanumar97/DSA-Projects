{
 "cells": [
  {
   "cell_type": "code",
   "execution_count": 1,
   "id": "50d3a202",
   "metadata": {},
   "outputs": [],
   "source": [
    "shoppingList = ['Milk', 'Cheese', 'Butter']\n"
   ]
  },
  {
   "cell_type": "code",
   "execution_count": 2,
   "id": "e718a4ea",
   "metadata": {},
   "outputs": [
    {
     "name": "stdout",
     "output_type": "stream",
     "text": [
      "Cheese\n"
     ]
    }
   ],
   "source": [
    "print(shoppingList[1])"
   ]
  },
  {
   "cell_type": "code",
   "execution_count": 3,
   "id": "f2b4d675",
   "metadata": {},
   "outputs": [
    {
     "name": "stdout",
     "output_type": "stream",
     "text": [
      "True\n"
     ]
    }
   ],
   "source": [
    "print('Milk' in shoppingList)"
   ]
  },
  {
   "cell_type": "markdown",
   "id": "e1457e0f",
   "metadata": {},
   "source": [
    "### Traversing through a List"
   ]
  },
  {
   "cell_type": "code",
   "execution_count": 4,
   "id": "fbf9e47a",
   "metadata": {},
   "outputs": [
    {
     "name": "stdout",
     "output_type": "stream",
     "text": [
      "Milk\n",
      "Cheese\n",
      "Butter\n"
     ]
    }
   ],
   "source": [
    "for i in shoppingList:\n",
    "    print(i)"
   ]
  },
  {
   "cell_type": "code",
   "execution_count": 5,
   "id": "6702df8e",
   "metadata": {},
   "outputs": [
    {
     "name": "stdout",
     "output_type": "stream",
     "text": [
      "Milk+\n",
      "Cheese+\n",
      "Butter+\n"
     ]
    }
   ],
   "source": [
    "for i in range(len(shoppingList)):\n",
    "    shoppingList[i] = shoppingList[i]+'+'\n",
    "    print(shoppingList[i])"
   ]
  },
  {
   "cell_type": "code",
   "execution_count": 6,
   "id": "8af3ffd8",
   "metadata": {},
   "outputs": [],
   "source": [
    "empty = []\n",
    "\n",
    "for i in empty:\n",
    "    print('I am empty')"
   ]
  },
  {
   "cell_type": "markdown",
   "id": "d014eacf",
   "metadata": {},
   "source": [
    "### Updating/Inserting Python List"
   ]
  },
  {
   "cell_type": "code",
   "execution_count": 7,
   "id": "51c5afe0",
   "metadata": {},
   "outputs": [],
   "source": [
    "myList = [1,2,3,4,5,6,7]"
   ]
  },
  {
   "cell_type": "code",
   "execution_count": 8,
   "id": "0ebb6233",
   "metadata": {},
   "outputs": [
    {
     "name": "stdout",
     "output_type": "stream",
     "text": [
      "[1, 2, 33, 4, 5, 6, 7]\n"
     ]
    }
   ],
   "source": [
    "# Updating a List\n",
    "myList[2] = 33\n",
    "print(myList)"
   ]
  },
  {
   "cell_type": "code",
   "execution_count": 9,
   "id": "5049ba5f",
   "metadata": {},
   "outputs": [
    {
     "name": "stdout",
     "output_type": "stream",
     "text": [
      "[11, 1, 2, 33, 4, 5, 6, 7]\n",
      "[11, 1, 2, 33, 4, 5, 6, 7, 100]\n",
      "[11, 1, 2, 33, 4, 5, 6, 7, 100, 200, 300, 400, 500]\n"
     ]
    }
   ],
   "source": [
    "# List Methods for Inserting\n",
    "# 1) insert(), we can use insert method to add element anywhere in the list.\n",
    "# 2) append(), append puts everythign in the end.\n",
    "# 3) extend(), we can add another list to our list.\n",
    "\n",
    "myList.insert(0,11)\n",
    "print(myList)\n",
    "\n",
    "myList.append(100)\n",
    "print(myList)\n",
    "\n",
    "newList = [200,300,400,500]\n",
    "myList.extend(newList)\n",
    "print(myList)"
   ]
  },
  {
   "cell_type": "markdown",
   "id": "be86f4bb",
   "metadata": {},
   "source": [
    "### Deletion in Python List"
   ]
  },
  {
   "cell_type": "code",
   "execution_count": 10,
   "id": "53fadeab",
   "metadata": {},
   "outputs": [
    {
     "name": "stdout",
     "output_type": "stream",
     "text": [
      "['a', 'b', 'c', 'd', 'e', 'f']\n",
      "['x', 'y', 'c', 'd', 'e', 'f']\n"
     ]
    }
   ],
   "source": [
    "# List Methods for Deleting\n",
    "# For deletion, We need Slice[:] Operator\n",
    "# 1) pop(), \n",
    "# 2) delete(), \n",
    "# 3) remove(),\n",
    "\n",
    "myList = ['a','b','c','d','e','f']\n",
    "print(myList)\n",
    "\n",
    "myList[0:2] = ['x','y']\n",
    "print(myList[:])\n",
    "# print(myList[0:2]) # To print first 2 indexes"
   ]
  },
  {
   "cell_type": "code",
   "execution_count": 11,
   "id": "9ed239b1",
   "metadata": {},
   "outputs": [
    {
     "name": "stdout",
     "output_type": "stream",
     "text": [
      "['x', 'c', 'd', 'e', 'f']\n"
     ]
    }
   ],
   "source": [
    "myList.pop(1) # If no argument is provided, pop() will delete last index\n",
    "print(myList)"
   ]
  },
  {
   "cell_type": "code",
   "execution_count": 12,
   "id": "8be7d351",
   "metadata": {},
   "outputs": [
    {
     "name": "stdout",
     "output_type": "stream",
     "text": [
      "['d', 'e', 'f']\n"
     ]
    }
   ],
   "source": [
    "del myList[0:2]\n",
    "print(myList)"
   ]
  },
  {
   "cell_type": "code",
   "execution_count": 13,
   "id": "f90c2392",
   "metadata": {},
   "outputs": [
    {
     "name": "stdout",
     "output_type": "stream",
     "text": [
      "['d', 'f']\n"
     ]
    }
   ],
   "source": [
    "myList.remove('e')\n",
    "print(myList)"
   ]
  },
  {
   "cell_type": "markdown",
   "id": "91d7ea69",
   "metadata": {},
   "source": [
    "### Searching for an Element in List"
   ]
  },
  {
   "cell_type": "code",
   "execution_count": 14,
   "id": "f77b8299",
   "metadata": {},
   "outputs": [],
   "source": [
    "my_list = [10,20,30,40,50,60,70,80,90]"
   ]
  },
  {
   "cell_type": "code",
   "execution_count": 15,
   "id": "6c55889f",
   "metadata": {},
   "outputs": [
    {
     "name": "stdout",
     "output_type": "stream",
     "text": [
      "50 is in the list\n"
     ]
    }
   ],
   "source": [
    "# IN operator\n",
    "target = 50\n",
    "if target in my_list:\n",
    "    print(f'{target} is in the list')\n",
    "else:\n",
    "    print(f'{target} is not in the list')"
   ]
  },
  {
   "cell_type": "code",
   "execution_count": 16,
   "id": "9facb6df",
   "metadata": {},
   "outputs": [],
   "source": [
    "# Linear Search (Mistake)\n",
    "\n",
    "def linearSearch(lyst, target1):\n",
    "    for i in range(len(lyst)):\n",
    "        if lyst[i] == target1:\n",
    "            print(f'{target1} is in the list')\n",
    "    return -1\n"
   ]
  },
  {
   "cell_type": "code",
   "execution_count": 17,
   "id": "8132f03f",
   "metadata": {},
   "outputs": [
    {
     "name": "stdout",
     "output_type": "stream",
     "text": [
      "30 is in the list\n"
     ]
    },
    {
     "data": {
      "text/plain": [
       "-1"
      ]
     },
     "execution_count": 17,
     "metadata": {},
     "output_type": "execute_result"
    }
   ],
   "source": [
    "linearSearch(my_list, 30)"
   ]
  },
  {
   "cell_type": "code",
   "execution_count": 18,
   "id": "fd19cbeb",
   "metadata": {},
   "outputs": [],
   "source": [
    "# Linear Search (Correct Version)\n",
    "\n",
    "def linear_search(p_list, p_target):\n",
    "    for i,value in enumerate(p_list):\n",
    "        if value == p_target:\n",
    "            return i\n",
    "    return -1"
   ]
  },
  {
   "cell_type": "code",
   "execution_count": 19,
   "id": "02a20c33",
   "metadata": {},
   "outputs": [
    {
     "data": {
      "text/plain": [
       "3"
      ]
     },
     "execution_count": 19,
     "metadata": {},
     "output_type": "execute_result"
    }
   ],
   "source": [
    "linear_search(my_list, 40)"
   ]
  },
  {
   "cell_type": "markdown",
   "id": "45ad99cc",
   "metadata": {},
   "source": [
    "### Operations in List\n"
   ]
  },
  {
   "cell_type": "code",
   "execution_count": 20,
   "id": "ce838bf0",
   "metadata": {},
   "outputs": [],
   "source": [
    "# Concat\n",
    "# Asteris *\n",
    "# Max() - returns max value in the list\n",
    "# Min() - returns min value in the list\n",
    "# Sum() - returns sum of elements in the list\n",
    "# / - returns the division of two numbers"
   ]
  },
  {
   "cell_type": "code",
   "execution_count": 25,
   "id": "61d9f0d6",
   "metadata": {},
   "outputs": [
    {
     "name": "stdout",
     "output_type": "stream",
     "text": [
      "Enter a number:21\n",
      "Average: 21.0\n",
      "Enter a number:12\n",
      "Average: 16.5\n"
     ]
    },
    {
     "ename": "KeyboardInterrupt",
     "evalue": "Interrupted by user",
     "output_type": "error",
     "traceback": [
      "\u001b[1;31m---------------------------------------------------------------------------\u001b[0m",
      "\u001b[1;31mKeyboardInterrupt\u001b[0m                         Traceback (most recent call last)",
      "Cell \u001b[1;32mIn[25], line 5\u001b[0m\n\u001b[0;32m      2\u001b[0m count \u001b[38;5;241m=\u001b[39m \u001b[38;5;241m0\u001b[39m\n\u001b[0;32m      4\u001b[0m \u001b[38;5;28;01mwhile\u001b[39;00m(\u001b[38;5;28;01mTrue\u001b[39;00m):\n\u001b[1;32m----> 5\u001b[0m     inp \u001b[38;5;241m=\u001b[39m \u001b[38;5;28;43minput\u001b[39;49m\u001b[43m(\u001b[49m\u001b[38;5;124;43m'\u001b[39;49m\u001b[38;5;124;43mEnter a number:\u001b[39;49m\u001b[38;5;124;43m'\u001b[39;49m\u001b[43m)\u001b[49m\n\u001b[0;32m      6\u001b[0m     \u001b[38;5;28;01mif\u001b[39;00m inp \u001b[38;5;241m==\u001b[39m \u001b[38;5;124m'\u001b[39m\u001b[38;5;124mdone\u001b[39m\u001b[38;5;124m'\u001b[39m: \u001b[38;5;28;01mbreak\u001b[39;00m\n\u001b[0;32m      7\u001b[0m     value \u001b[38;5;241m=\u001b[39m \u001b[38;5;28mfloat\u001b[39m(inp)\n",
      "File \u001b[1;32mC:\\ProgramData\\anaconda3\\lib\\site-packages\\ipykernel\\kernelbase.py:1175\u001b[0m, in \u001b[0;36mKernel.raw_input\u001b[1;34m(self, prompt)\u001b[0m\n\u001b[0;32m   1171\u001b[0m \u001b[38;5;28;01mif\u001b[39;00m \u001b[38;5;129;01mnot\u001b[39;00m \u001b[38;5;28mself\u001b[39m\u001b[38;5;241m.\u001b[39m_allow_stdin:\n\u001b[0;32m   1172\u001b[0m     \u001b[38;5;28;01mraise\u001b[39;00m StdinNotImplementedError(\n\u001b[0;32m   1173\u001b[0m         \u001b[38;5;124m\"\u001b[39m\u001b[38;5;124mraw_input was called, but this frontend does not support input requests.\u001b[39m\u001b[38;5;124m\"\u001b[39m\n\u001b[0;32m   1174\u001b[0m     )\n\u001b[1;32m-> 1175\u001b[0m \u001b[38;5;28;01mreturn\u001b[39;00m \u001b[38;5;28;43mself\u001b[39;49m\u001b[38;5;241;43m.\u001b[39;49m\u001b[43m_input_request\u001b[49m\u001b[43m(\u001b[49m\n\u001b[0;32m   1176\u001b[0m \u001b[43m    \u001b[49m\u001b[38;5;28;43mstr\u001b[39;49m\u001b[43m(\u001b[49m\u001b[43mprompt\u001b[49m\u001b[43m)\u001b[49m\u001b[43m,\u001b[49m\n\u001b[0;32m   1177\u001b[0m \u001b[43m    \u001b[49m\u001b[38;5;28;43mself\u001b[39;49m\u001b[38;5;241;43m.\u001b[39;49m\u001b[43m_parent_ident\u001b[49m\u001b[43m[\u001b[49m\u001b[38;5;124;43m\"\u001b[39;49m\u001b[38;5;124;43mshell\u001b[39;49m\u001b[38;5;124;43m\"\u001b[39;49m\u001b[43m]\u001b[49m\u001b[43m,\u001b[49m\n\u001b[0;32m   1178\u001b[0m \u001b[43m    \u001b[49m\u001b[38;5;28;43mself\u001b[39;49m\u001b[38;5;241;43m.\u001b[39;49m\u001b[43mget_parent\u001b[49m\u001b[43m(\u001b[49m\u001b[38;5;124;43m\"\u001b[39;49m\u001b[38;5;124;43mshell\u001b[39;49m\u001b[38;5;124;43m\"\u001b[39;49m\u001b[43m)\u001b[49m\u001b[43m,\u001b[49m\n\u001b[0;32m   1179\u001b[0m \u001b[43m    \u001b[49m\u001b[43mpassword\u001b[49m\u001b[38;5;241;43m=\u001b[39;49m\u001b[38;5;28;43;01mFalse\u001b[39;49;00m\u001b[43m,\u001b[49m\n\u001b[0;32m   1180\u001b[0m \u001b[43m\u001b[49m\u001b[43m)\u001b[49m\n",
      "File \u001b[1;32mC:\\ProgramData\\anaconda3\\lib\\site-packages\\ipykernel\\kernelbase.py:1217\u001b[0m, in \u001b[0;36mKernel._input_request\u001b[1;34m(self, prompt, ident, parent, password)\u001b[0m\n\u001b[0;32m   1214\u001b[0m             \u001b[38;5;28;01mbreak\u001b[39;00m\n\u001b[0;32m   1215\u001b[0m \u001b[38;5;28;01mexcept\u001b[39;00m \u001b[38;5;167;01mKeyboardInterrupt\u001b[39;00m:\n\u001b[0;32m   1216\u001b[0m     \u001b[38;5;66;03m# re-raise KeyboardInterrupt, to truncate traceback\u001b[39;00m\n\u001b[1;32m-> 1217\u001b[0m     \u001b[38;5;28;01mraise\u001b[39;00m \u001b[38;5;167;01mKeyboardInterrupt\u001b[39;00m(\u001b[38;5;124m\"\u001b[39m\u001b[38;5;124mInterrupted by user\u001b[39m\u001b[38;5;124m\"\u001b[39m) \u001b[38;5;28;01mfrom\u001b[39;00m \u001b[38;5;28;01mNone\u001b[39;00m\n\u001b[0;32m   1218\u001b[0m \u001b[38;5;28;01mexcept\u001b[39;00m \u001b[38;5;167;01mException\u001b[39;00m:\n\u001b[0;32m   1219\u001b[0m     \u001b[38;5;28mself\u001b[39m\u001b[38;5;241m.\u001b[39mlog\u001b[38;5;241m.\u001b[39mwarning(\u001b[38;5;124m\"\u001b[39m\u001b[38;5;124mInvalid Message:\u001b[39m\u001b[38;5;124m\"\u001b[39m, exc_info\u001b[38;5;241m=\u001b[39m\u001b[38;5;28;01mTrue\u001b[39;00m)\n",
      "\u001b[1;31mKeyboardInterrupt\u001b[0m: Interrupted by user"
     ]
    }
   ],
   "source": [
    "total = 0\n",
    "count = 0\n",
    "\n",
    "while(True):\n",
    "    inp = input('Enter a number:')\n",
    "    if inp == 'done': break\n",
    "    value = float(inp)\n",
    "    total = total + value\n",
    "    count = count + 1\n",
    "    average = total /count\n",
    "        \n",
    "    print('Average:', average)\n"
   ]
  },
  {
   "cell_type": "code",
   "execution_count": 29,
   "id": "7d21454c",
   "metadata": {},
   "outputs": [
    {
     "name": "stdout",
     "output_type": "stream",
     "text": [
      "Enter a number:1\n",
      "Enter a number:2\n",
      "Enter a number:3\n",
      "Enter a number:4\n",
      "Enter a number:45\n",
      "Enter a number:5\n",
      "Enter a number:6\n",
      "Enter a number:54\n",
      "Enter a number:64\n",
      "Enter a number:234\n",
      "Enter a number:2\n",
      "Enter a number:42\n",
      "Enter a number:342\n",
      "Enter a number:345\n",
      "Enter a number:done\n",
      "Average: 82.07142857142857\n"
     ]
    }
   ],
   "source": [
    "myList = list()\n",
    "\n",
    "while(True):\n",
    "    inp = input('Enter a number:')\n",
    "    if inp == 'done': break\n",
    "    value = float(inp)\n",
    "    myList.append(value)\n",
    "average = sum(myList) /len(myList)\n",
    "        \n",
    "print('Average:', average)"
   ]
  },
  {
   "cell_type": "code",
   "execution_count": 37,
   "id": "b0e170af",
   "metadata": {},
   "outputs": [
    {
     "name": "stdout",
     "output_type": "stream",
     "text": [
      "['s', 'p', 'a', 'm']\n",
      "['spam', 'spam', 'spam']\n",
      "['spam', 'spam1', 'spam2']\n",
      "['spam', 'spam1', 'spam2']\n",
      "spam-spam1-spam2\n"
     ]
    }
   ],
   "source": [
    "# list() - to convert characters to list\n",
    "# split() - to split something from the list\n",
    "# joint() - revert back the list elemnts to string\n",
    "\n",
    "\n",
    "a = 'spam'\n",
    "b = list(a)\n",
    "print(b)\n",
    "\n",
    "a = 'spam spam spam'\n",
    "b = a.split()\n",
    "print(b)\n",
    "\n",
    "a = 'spam-spam1-spam2'\n",
    "delimeter = '-'\n",
    "b = a.split(delimeter)\n",
    "print(b)\n",
    "\n",
    "a = 'spam-spam1-spam2'\n",
    "delimeter = '-'\n",
    "b = a.split(delimeter)\n",
    "print(b)\n",
    "print(delimeter.join(b))\n"
   ]
  },
  {
   "cell_type": "code",
   "execution_count": 39,
   "id": "91c0adc2",
   "metadata": {},
   "outputs": [],
   "source": [
    "language = \"Python\"\n",
    "new_list = [i for i in language]"
   ]
  },
  {
   "cell_type": "code",
   "execution_count": 40,
   "id": "dca01aca",
   "metadata": {},
   "outputs": [
    {
     "name": "stdout",
     "output_type": "stream",
     "text": [
      "['P', 'y', 't', 'h', 'o', 'n']\n"
     ]
    }
   ],
   "source": [
    "print(new_list)"
   ]
  },
  {
   "cell_type": "code",
   "execution_count": 41,
   "id": "880f90fe",
   "metadata": {},
   "outputs": [
    {
     "name": "stdout",
     "output_type": "stream",
     "text": [
      "[4, 3, 2]\n"
     ]
    }
   ],
   "source": [
    "a=[1,2,3,4,5]\n",
    "print(a[3:0:-1])"
   ]
  },
  {
   "cell_type": "code",
   "execution_count": 42,
   "id": "954c560f",
   "metadata": {},
   "outputs": [
    {
     "ename": "ValueError",
     "evalue": "attempt to assign sequence of size 6 to extended slice of size 5",
     "output_type": "error",
     "traceback": [
      "\u001b[1;31m---------------------------------------------------------------------------\u001b[0m",
      "\u001b[1;31mValueError\u001b[0m                                Traceback (most recent call last)",
      "Cell \u001b[1;32mIn[42], line 2\u001b[0m\n\u001b[0;32m      1\u001b[0m a\u001b[38;5;241m=\u001b[39m[\u001b[38;5;241m1\u001b[39m,\u001b[38;5;241m2\u001b[39m,\u001b[38;5;241m3\u001b[39m,\u001b[38;5;241m4\u001b[39m,\u001b[38;5;241m5\u001b[39m,\u001b[38;5;241m6\u001b[39m,\u001b[38;5;241m7\u001b[39m,\u001b[38;5;241m8\u001b[39m,\u001b[38;5;241m9\u001b[39m]\n\u001b[1;32m----> 2\u001b[0m a[::\u001b[38;5;241m2\u001b[39m]\u001b[38;5;241m=\u001b[39m\u001b[38;5;241m10\u001b[39m,\u001b[38;5;241m20\u001b[39m,\u001b[38;5;241m30\u001b[39m,\u001b[38;5;241m40\u001b[39m,\u001b[38;5;241m50\u001b[39m,\u001b[38;5;241m60\u001b[39m\n\u001b[0;32m      3\u001b[0m \u001b[38;5;28mprint\u001b[39m(a)\n",
      "\u001b[1;31mValueError\u001b[0m: attempt to assign sequence of size 6 to extended slice of size 5"
     ]
    }
   ],
   "source": [
    "a=[1,2,3,4,5,6,7,8,9]\n",
    "a[::2]=10,20,30,40,50,60\n",
    "print(a)"
   ]
  },
  {
   "cell_type": "code",
   "execution_count": 46,
   "id": "ab518379",
   "metadata": {},
   "outputs": [
    {
     "ename": "NameError",
     "evalue": "name 'shuffle' is not defined",
     "output_type": "error",
     "traceback": [
      "\u001b[1;31m---------------------------------------------------------------------------\u001b[0m",
      "\u001b[1;31mNameError\u001b[0m                                 Traceback (most recent call last)",
      "Cell \u001b[1;32mIn[46], line 2\u001b[0m\n\u001b[0;32m      1\u001b[0m fruit\u001b[38;5;241m=\u001b[39m[\u001b[38;5;124m'\u001b[39m\u001b[38;5;124mapple\u001b[39m\u001b[38;5;124m'\u001b[39m, \u001b[38;5;124m'\u001b[39m\u001b[38;5;124mbanana\u001b[39m\u001b[38;5;124m'\u001b[39m, \u001b[38;5;124m'\u001b[39m\u001b[38;5;124mpapaya\u001b[39m\u001b[38;5;124m'\u001b[39m, \u001b[38;5;124m'\u001b[39m\u001b[38;5;124mcherry\u001b[39m\u001b[38;5;124m'\u001b[39m]\n\u001b[1;32m----> 2\u001b[0m \u001b[43mshuffle\u001b[49m(fruit)\n",
      "\u001b[1;31mNameError\u001b[0m: name 'shuffle' is not defined"
     ]
    }
   ],
   "source": [
    "fruit=['apple', 'banana', 'papaya', 'cherry']\n",
    "shuffle(fruit)"
   ]
  },
  {
   "cell_type": "code",
   "execution_count": 48,
   "id": "e2f1cc0a",
   "metadata": {},
   "outputs": [
    {
     "name": "stdout",
     "output_type": "stream",
     "text": [
      "22\n"
     ]
    }
   ],
   "source": [
    "\n",
    "fruit_list1 = ['Apple', 'Berry', 'Cherry', 'Papaya']\n",
    "fruit_list2 = fruit_list1\n",
    "fruit_list3 = fruit_list1[:]\n",
    " \n",
    "fruit_list2[0] = 'Guava'\n",
    "fruit_list3[1] = 'Kiwi'\n",
    " \n",
    "sum = 0\n",
    "for ls in (fruit_list1, fruit_list2, fruit_list3):\n",
    "    if ls[0] == 'Guava':\n",
    "        sum += 1\n",
    "    if ls[1] == 'Kiwi':\n",
    "        sum += 20\n",
    " \n",
    "print(sum)"
   ]
  },
  {
   "cell_type": "code",
   "execution_count": 49,
   "id": "0e054c39",
   "metadata": {},
   "outputs": [
    {
     "name": "stdout",
     "output_type": "stream",
     "text": [
      "4\n",
      "7\n",
      "11\n",
      "15\n"
     ]
    }
   ],
   "source": [
    "arr = [[1, 2, 3, 4],\n",
    "       [4, 5, 6, 7],\n",
    "       [8, 9, 10, 11],\n",
    "       [12, 13, 14, 15]]\n",
    "for i in range(0, 4):\n",
    "    print(arr[i].pop())"
   ]
  },
  {
   "cell_type": "code",
   "execution_count": 50,
   "id": "b8104711",
   "metadata": {},
   "outputs": [
    {
     "name": "stdout",
     "output_type": "stream",
     "text": [
      "3 44\n"
     ]
    }
   ],
   "source": [
    "def f(value, values):\n",
    "    v = 1\n",
    "    values[0] = 44\n",
    "t = 3\n",
    "v = [1, 2, 3]\n",
    "f(t, v)\n",
    "print(t, v[0])"
   ]
  },
  {
   "cell_type": "code",
   "execution_count": 51,
   "id": "897653ed",
   "metadata": {},
   "outputs": [
    {
     "name": "stdout",
     "output_type": "stream",
     "text": [
      "[1, 3, 5, 7, 9]\n"
     ]
    }
   ],
   "source": [
    "a=[1,2,3,4,5,6,7,8,9]\n",
    "print(a[::2])"
   ]
  },
  {
   "cell_type": "code",
   "execution_count": 54,
   "id": "548463c3",
   "metadata": {},
   "outputs": [
    {
     "name": "stdout",
     "output_type": "stream",
     "text": [
      "8\n"
     ]
    }
   ],
   "source": [
    "data = [[[1, 2], [3, 4]], [[5, 6], [7, 8]]]\n",
    "def fun(m):\n",
    "    v = m[0][0]\n",
    " \n",
    "    for row in m:\n",
    "        for element in row:\n",
    "            if v < element: v = element\n",
    " \n",
    "    return v\n",
    "print(fun(data[1]))\n"
   ]
  },
  {
   "cell_type": "code",
   "execution_count": 55,
   "id": "acad7116",
   "metadata": {},
   "outputs": [
    {
     "name": "stdout",
     "output_type": "stream",
     "text": [
      "2 3 4 5 6 6 "
     ]
    }
   ],
   "source": [
    "arr = [1, 2, 3, 4, 5, 6]\n",
    "for i in range(1, 6):\n",
    "    arr[i - 1] = arr[i]\n",
    "for i in range(0, 6): \n",
    "    print(arr[i], end = \" \")"
   ]
  },
  {
   "cell_type": "code",
   "execution_count": null,
   "id": "08a87d96",
   "metadata": {},
   "outputs": [],
   "source": []
  }
 ],
 "metadata": {
  "kernelspec": {
   "display_name": "Python 3 (ipykernel)",
   "language": "python",
   "name": "python3"
  },
  "language_info": {
   "codemirror_mode": {
    "name": "ipython",
    "version": 3
   },
   "file_extension": ".py",
   "mimetype": "text/x-python",
   "name": "python",
   "nbconvert_exporter": "python",
   "pygments_lexer": "ipython3",
   "version": "3.10.9"
  }
 },
 "nbformat": 4,
 "nbformat_minor": 5
}
