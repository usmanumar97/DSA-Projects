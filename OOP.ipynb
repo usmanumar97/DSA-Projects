{
 "cells": [
  {
   "cell_type": "code",
   "execution_count": 16,
   "id": "9c731347",
   "metadata": {},
   "outputs": [
    {
     "name": "stdout",
     "output_type": "stream",
     "text": [
      "Red\n",
      "16\n",
      "Milk Amount is 0.1 The color of the car is Red, and weight is 16kg\n"
     ]
    }
   ],
   "source": [
    "class StarCookie:\n",
    "    milk = 0.1\n",
    "    def __init__(self, color, weight):\n",
    "        self.color = color\n",
    "        self.weight = weight\n",
    "    \n",
    "    \n",
    "# @property decorator makes milk a read-only attribute\n",
    "# def milk(self):\n",
    "#     return self._milk  # This makes milk read-only\n",
    "        \n",
    "# Create an instance of the StarCookie class\n",
    "star_cookie1 = StarCookie('Red', 16)\n",
    "print(star_cookie1.color)\n",
    "print(star_cookie1.weight)\n",
    "print(f'Milk Amount is {star_cookie1.milk} The color of the car is {star_cookie1.color}, and weight is {star_cookie1.weight}kg')\n"
   ]
  },
  {
   "cell_type": "code",
   "execution_count": 23,
   "id": "94e52a5a",
   "metadata": {},
   "outputs": [
    {
     "name": "stdout",
     "output_type": "stream",
     "text": [
      "The username is Elshad, subscriber count 1.\n",
      "User 1 Subscribers: 1, 1\n"
     ]
    }
   ],
   "source": [
    "class Youtube:\n",
    "    def __init__(self, username, subscribers, subscriptions=0):\n",
    "        self.username = username\n",
    "        self.subscribers = subscribers\n",
    "        self.subscriptions = subscriptions\n",
    "        \n",
    "    def subscribe(self, user):\n",
    "        user.subscribers +=1\n",
    "        self.subscriptions +=1\n",
    "        \n",
    "user1 = Youtube('Elshad', 0)\n",
    "user1.subscribe(user1)\n",
    "print(f'The username is {user1.username}, subscriber count {user1.subscribers}.')\n",
    "print(f'User 1 Subscribers: {user1.subscribers}, {user1.subscriptions}')"
   ]
  },
  {
   "cell_type": "code",
   "execution_count": 24,
   "id": "694c1942",
   "metadata": {},
   "outputs": [
    {
     "name": "stdout",
     "output_type": "stream",
     "text": [
      "10\n",
      "5\n",
      "0\n"
     ]
    }
   ],
   "source": [
    "class Calculator:\n",
    "    def __init__(self):\n",
    "        self.result = 0  # Initialize the result attribute\n",
    "\n",
    "    def add(self, value):\n",
    "        \"\"\"Add a value to the result.\"\"\"\n",
    "        self.result += value\n",
    "\n",
    "    def subtract(self, value):\n",
    "        \"\"\"Subtract a value from the result.\"\"\"\n",
    "        self.result -= value\n",
    "\n",
    "    def clear(self):\n",
    "        \"\"\"Reset the result to zero.\"\"\"\n",
    "        self.result = 0\n",
    "\n",
    "# Creating an instance of Calculator\n",
    "calc = Calculator()\n",
    "calc.add(10)\n",
    "print(calc.result)  # Output: 10\n",
    "calc.subtract(5)\n",
    "print(calc.result)  # Output: 5\n",
    "calc.clear()\n",
    "print(calc.result)  # Output: 0\n"
   ]
  },
  {
   "cell_type": "code",
   "execution_count": null,
   "id": "cbdd03b2",
   "metadata": {},
   "outputs": [],
   "source": []
  }
 ],
 "metadata": {
  "kernelspec": {
   "display_name": "Python 3 (ipykernel)",
   "language": "python",
   "name": "python3"
  },
  "language_info": {
   "codemirror_mode": {
    "name": "ipython",
    "version": 3
   },
   "file_extension": ".py",
   "mimetype": "text/x-python",
   "name": "python",
   "nbconvert_exporter": "python",
   "pygments_lexer": "ipython3",
   "version": "3.10.9"
  }
 },
 "nbformat": 4,
 "nbformat_minor": 5
}
