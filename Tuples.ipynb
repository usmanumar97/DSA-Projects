{
 "cells": [
  {
   "cell_type": "markdown",
   "id": "42ebb092",
   "metadata": {},
   "source": [
    "### Creating a Tuple"
   ]
  },
  {
   "cell_type": "code",
   "execution_count": 5,
   "id": "fcd1fca9",
   "metadata": {},
   "outputs": [
    {
     "name": "stdout",
     "output_type": "stream",
     "text": [
      "('a', 'b', 'c', 'd', 'e')\n",
      "('a', 'b', 'c', 'd', 'e')\n"
     ]
    }
   ],
   "source": [
    "newTuple = ('a', 'b', 'c', 'd', 'e')\n",
    "newtuple = ('a',) # Use coma when creating single element tuple\n",
    "newtuplefu = tuple('abcde')\n",
    "print(newtuplefu)\n",
    "print(newTuple)"
   ]
  },
  {
   "cell_type": "markdown",
   "id": "c1def181",
   "metadata": {},
   "source": [
    "### Access Tuple Elements"
   ]
  },
  {
   "cell_type": "code",
   "execution_count": 9,
   "id": "ed1ec9ab",
   "metadata": {},
   "outputs": [
    {
     "name": "stdout",
     "output_type": "stream",
     "text": [
      "b\n",
      "('b', 'c')\n"
     ]
    }
   ],
   "source": [
    "print(newTuple[1]) # -1 can also be used - output last element\n",
    "print(newTuple[1:3])"
   ]
  },
  {
   "cell_type": "markdown",
   "id": "3aae2236",
   "metadata": {},
   "source": [
    "### Traversing through a Tuple"
   ]
  },
  {
   "cell_type": "code",
   "execution_count": 10,
   "id": "e26b2276",
   "metadata": {},
   "outputs": [
    {
     "name": "stdout",
     "output_type": "stream",
     "text": [
      "a\n",
      "b\n",
      "c\n",
      "d\n",
      "e\n"
     ]
    }
   ],
   "source": [
    "for i in newTuple:\n",
    "    print(i)"
   ]
  },
  {
   "cell_type": "code",
   "execution_count": 12,
   "id": "87d18eae",
   "metadata": {},
   "outputs": [
    {
     "name": "stdout",
     "output_type": "stream",
     "text": [
      "a\n",
      "b\n",
      "c\n",
      "d\n",
      "e\n"
     ]
    }
   ],
   "source": [
    "for i in range(len(newTuple)):\n",
    "    print(newTuple[i])"
   ]
  },
  {
   "cell_type": "markdown",
   "id": "72690920",
   "metadata": {},
   "source": [
    "### Searching for an element in Tuple"
   ]
  },
  {
   "cell_type": "code",
   "execution_count": 13,
   "id": "1d1fdaa5",
   "metadata": {},
   "outputs": [
    {
     "name": "stdout",
     "output_type": "stream",
     "text": [
      "True\n"
     ]
    }
   ],
   "source": [
    "print('a' in newTuple) # Prints a boolean value"
   ]
  },
  {
   "cell_type": "code",
   "execution_count": 14,
   "id": "40fa1b7d",
   "metadata": {},
   "outputs": [
    {
     "name": "stdout",
     "output_type": "stream",
     "text": [
      "0\n"
     ]
    }
   ],
   "source": [
    "print(newTuple.index('a'))"
   ]
  },
  {
   "cell_type": "code",
   "execution_count": 15,
   "id": "46a67164",
   "metadata": {},
   "outputs": [],
   "source": [
    "def searchTuple(p_tuple, element):\n",
    "    for i in range(0, len(p_tuple)):\n",
    "        if element == p_tuple[i]:\n",
    "            return f\"The {element} is in the index {i}\"\n",
    "    return 'The element is not found'"
   ]
  },
  {
   "cell_type": "code",
   "execution_count": 18,
   "id": "282cf1eb",
   "metadata": {},
   "outputs": [
    {
     "data": {
      "text/plain": [
       "'The c is in the index 2'"
      ]
     },
     "execution_count": 18,
     "metadata": {},
     "output_type": "execute_result"
    }
   ],
   "source": [
    "searchTuple(newTuple, 'c')"
   ]
  },
  {
   "cell_type": "markdown",
   "id": "b7eb5ecb",
   "metadata": {},
   "source": [
    "### Tuple Operations / Functions"
   ]
  },
  {
   "cell_type": "code",
   "execution_count": 29,
   "id": "acfb55ef",
   "metadata": {},
   "outputs": [],
   "source": [
    "myTuple = (1,2,3,4,5)\n",
    "myTyple1 = (1,2,6,9,8,7)"
   ]
  },
  {
   "cell_type": "code",
   "execution_count": 21,
   "id": "c9ee773b",
   "metadata": {},
   "outputs": [
    {
     "name": "stdout",
     "output_type": "stream",
     "text": [
      "(1, 2, 3, 4, 5, 1, 2, 6, 9, 8, 7)\n"
     ]
    }
   ],
   "source": [
    "# Concatenation +\n",
    "print(myTuple + myTyple1)"
   ]
  },
  {
   "cell_type": "code",
   "execution_count": 24,
   "id": "614daa2b",
   "metadata": {},
   "outputs": [
    {
     "name": "stdout",
     "output_type": "stream",
     "text": [
      "(1, 2, 3, 4, 5, 1, 2, 3, 4, 5, 1, 2, 3, 4, 5, 1, 2, 3, 4, 5)\n"
     ]
    }
   ],
   "source": [
    "# Star operator *\n",
    "print(myTuple * 4) # Will print the elemnts of tuple 4 times"
   ]
  },
  {
   "cell_type": "code",
   "execution_count": 25,
   "id": "bc1c3a02",
   "metadata": {},
   "outputs": [
    {
     "name": "stdout",
     "output_type": "stream",
     "text": [
      "True\n",
      "False\n"
     ]
    }
   ],
   "source": [
    "# In operator, returns True or False\n",
    "print(4 in myTuple)\n",
    "print(100 in myTuple)"
   ]
  },
  {
   "cell_type": "code",
   "execution_count": 26,
   "id": "7da509da",
   "metadata": {},
   "outputs": [
    {
     "name": "stdout",
     "output_type": "stream",
     "text": [
      "1\n"
     ]
    }
   ],
   "source": [
    "# Count Method - counts the repetition of elemnts in tuple\n",
    "print(myTuple.count(2))"
   ]
  },
  {
   "cell_type": "code",
   "execution_count": 30,
   "id": "40bd9cdb",
   "metadata": {},
   "outputs": [
    {
     "name": "stdout",
     "output_type": "stream",
     "text": [
      "2\n"
     ]
    }
   ],
   "source": [
    "# Inddex Method, returns the index of the elemnt in the tuple\n",
    "print(myTuple.index(3))"
   ]
  },
  {
   "cell_type": "code",
   "execution_count": 32,
   "id": "248094ff",
   "metadata": {},
   "outputs": [
    {
     "name": "stdout",
     "output_type": "stream",
     "text": [
      "5\n",
      "5\n"
     ]
    }
   ],
   "source": [
    "print(len(myTuple)) # returns length of the tuple\n",
    "print(max(myTuple)) # returns max value in the tuple"
   ]
  },
  {
   "cell_type": "code",
   "execution_count": 34,
   "id": "21eef86b",
   "metadata": {},
   "outputs": [
    {
     "name": "stdout",
     "output_type": "stream",
     "text": [
      "(1, 2, 3, 4, 5)\n"
     ]
    }
   ],
   "source": [
    "print(tuple([1,2,3,4,5])) # converts list into a tuple"
   ]
  },
  {
   "cell_type": "code",
   "execution_count": 35,
   "id": "2608660e",
   "metadata": {},
   "outputs": [],
   "source": [
    "# Methods cannot be used with tuple\n",
    "# - append()\n",
    "# - insert()\n",
    "# - remove()\n",
    "# - pop()\n",
    "# - clear()\n",
    "# - sort()\n",
    "# - reverse()\n",
    "\n",
    "# We can store tuples in a list, we can also create a list in a tuple. We can also create a nested tuple ((1,2,3), (4,5,6,)).\n"
   ]
  },
  {
   "cell_type": "code",
   "execution_count": null,
   "id": "ecd6122c",
   "metadata": {},
   "outputs": [],
   "source": []
  }
 ],
 "metadata": {
  "kernelspec": {
   "display_name": "Python 3 (ipykernel)",
   "language": "python",
   "name": "python3"
  },
  "language_info": {
   "codemirror_mode": {
    "name": "ipython",
    "version": 3
   },
   "file_extension": ".py",
   "mimetype": "text/x-python",
   "name": "python",
   "nbconvert_exporter": "python",
   "pygments_lexer": "ipython3",
   "version": "3.10.9"
  }
 },
 "nbformat": 4,
 "nbformat_minor": 5
}
